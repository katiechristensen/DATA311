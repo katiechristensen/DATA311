{
  "nbformat": 4,
  "nbformat_minor": 0,
  "metadata": {
    "colab": {
      "provenance": []
    },
    "kernelspec": {
      "name": "python3",
      "display_name": "Python 3"
    },
    "language_info": {
      "name": "python"
    }
  },
  "cells": [
    {
      "cell_type": "markdown",
      "source": [
        "Katie Christensen\n",
        "\n",
        "Spring 2022"
      ],
      "metadata": {
        "id": "6xTl6iqRJPMz"
      }
    },
    {
      "cell_type": "markdown",
      "source": [
        "#Part I: Developing the Model"
      ],
      "metadata": {
        "id": "IBZNDLCHJYnU"
      }
    },
    {
      "cell_type": "code",
      "execution_count": null,
      "metadata": {
        "id": "0kbnQACNJJck"
      },
      "outputs": [],
      "source": [
        "import numpy as np\n",
        "import pandas as pd\n",
        "import seaborn as sns\n",
        "import matplotlib.pyplot as plt\n",
        "from sklearn import linear_model\n",
        "from sklearn.utils import shuffle\n",
        "from sklearn.metrics import accuracy_score\n",
        "from sklearn.metrics import mean_squared_error\n",
        "from sklearn.model_selection import train_test_split"
      ]
    },
    {
      "cell_type": "markdown",
      "source": [
        "###1) Prep Data\n",
        "\n",
        "- Heatmap allows the N/A values to stand out easily, here we can see the dataset only contains a few of them.\n",
        "  - Can conclude that it is safe to drop the N/A's since there are so few in the data.\n",
        "- Split into train, dev, and test sets."
      ],
      "metadata": {
        "id": "4Ja46OCj8d9L"
      }
    },
    {
      "cell_type": "code",
      "source": [
        "df = sns.load_dataset('mpg')\n",
        "shuffled_df = shuffle(df)\n",
        "\n",
        "print(sns.heatmap(df.isnull()))\n",
        "\n",
        "df = shuffled_df.copy()\n",
        "df = df.drop(\"origin\", axis='columns') #non numerical\n",
        "df = df.drop(\"name\", axis='columns') # non numerical\n",
        "df = df.dropna() "
      ],
      "metadata": {
        "id": "nATvCKV5J_49",
        "colab": {
          "base_uri": "https://localhost:8080/",
          "height": 344
        },
        "outputId": "8e1e1822-f329-454b-d376-a31d7b623345"
      },
      "execution_count": null,
      "outputs": [
        {
          "output_type": "stream",
          "name": "stdout",
          "text": [
            "AxesSubplot(0.125,0.125;0.62x0.755)\n"
          ]
        },
        {
          "output_type": "display_data",
          "data": {
            "text/plain": [
              "<Figure size 432x288 with 2 Axes>"
            ],
            "image/png": "[encoded data removed]"
          },
          "metadata": {
            "needs_background": "light"
          }
        }
      ]
    },
    {
      "cell_type": "code",
      "source": [
        "all_x0 = df[[\"cylinders\",\"displacement\",\"horsepower\",\"weight\",\"acceleration\",\"model_year\"]].to_numpy()\n",
        "all_y0 = df[\"mpg\"].to_numpy()\n",
        "\n",
        "x_trval0, x_te0, y_trval0, y_te0 = train_test_split(all_x0,all_y0,test_size=0.17,random_state=30)\n",
        "x_tr0, x_val0, y_tr0, y_val0 = train_test_split(x_trval0,y_trval0,test_size=0.23,random_state=30)"
      ],
      "metadata": {
        "id": "MAER7eFTwEhi"
      },
      "execution_count": null,
      "outputs": []
    },
    {
      "cell_type": "markdown",
      "source": [
        "###2) Train model\n",
        "- Define model and train it.\n",
        "- Evaluate on train and dev sets.\n",
        "- Plot the true y values vs the model's predicted values to visualize model performance."
      ],
      "metadata": {
        "id": "CniRwE8X9GxN"
      }
    },
    {
      "cell_type": "code",
      "source": [
        "h = linear_model.LinearRegression()\n",
        "\n",
        "h.fit(x_tr0,y_tr0)\n",
        "\n",
        "print(\"Train R^2 = \", h.score(x_tr0, y_tr0))\n",
        "pred_tr0 = h.predict(x_tr0)\n",
        "print(\"Train RMSE = \", mean_squared_error(y_tr0, pred_tr0, squared=False))\n",
        "\n",
        "print(\"\\nVal R^2 = \",h.score(x_val0,y_val0))\n",
        "pred_val0 = h.predict(x_val0)\n",
        "print(\"Val RMSE = \", mean_squared_error(y_val0, pred_val0, squared=False),\"\\n\\n\")\n",
        "\n",
        "sns.scatterplot(y_val0,pred_val0)"
      ],
      "metadata": {
        "id": "8tL8QcjKYtHG",
        "colab": {
          "base_uri": "https://localhost:8080/",
          "height": 455
        },
        "outputId": "d1ddee40-afb4-4b17-895f-83d639e1c085"
      },
      "execution_count": null,
      "outputs": [
        {
          "output_type": "stream",
          "name": "stdout",
          "text": [
            "Train R^2 =  0.8124775557442379\n",
            "Train RMSE =  3.2458888832015402\n",
            "\n",
            "Val R^2 =  0.793817393716344\n",
            "Val RMSE =  3.6924102654014748 \n",
            "\n",
            "\n"
          ]
        },
        {
          "output_type": "stream",
          "name": "stderr",
          "text": [
            "/usr/local/lib/python3.7/dist-packages/seaborn/_decorators.py:43: FutureWarning: Pass the following variables as keyword args: x, y. From version 0.12, the only valid positional argument will be `data`, and passing other arguments without an explicit keyword will result in an error or misinterpretation.\n",
            "  FutureWarning\n"
          ]
        },
        {
          "output_type": "execute_result",
          "data": {
            "text/plain": [
              "<matplotlib.axes._subplots.AxesSubplot at 0x7fbd6a4af050>"
            ]
          },
          "metadata": {},
          "execution_count": 173
        },
        {
          "output_type": "display_data",
          "data": {
            "text/plain": [
              "<Figure size 432x288 with 1 Axes>"
            ],
            "image/png": "[encoded data removed]"
          },
          "metadata": {
            "needs_background": "light"
          }
        }
      ]
    },
    {
      "cell_type": "markdown",
      "source": [
        "###3) Trying out tricks"
      ],
      "metadata": {
        "id": "c3jz8K_P9sZN"
      }
    },
    {
      "cell_type": "markdown",
      "source": [
        "- Feature choise:\n",
        "\n",
        "First test: displacement, horsepower, acceleration, model_year\n",
        "    \n",
        "    - Train R^2 =  0.7566386100079956\n",
        "    - Train RMSE =  3.9209819243950985\n",
        "    - Val R^2 =  0.6810048595365608\n",
        "    - Val RMSE =  3.98251060855267\n",
        "\n",
        "Second test: horsepower, acceleration, weight\n",
        "\n",
        "    - Train R^2 =  0.7130286649456272\n",
        "    - Train RMSE =  4.257829441793051\n",
        "    - Val R^2 =  0.6453748801241072\n",
        "    - Val RMSE =  4.199036556506523\n",
        "\n",
        "Third test: model_year, weight, acceleration, horsepower, cylinders\n",
        "\n",
        "    - Train R^2 =  0.8082093178275155\n",
        "    - Train RMSE =  3.480829520794998\n",
        "    - Val R^2 =  0.7550025743481451\n",
        "    - Val RMSE =  3.490162663419571\n",
        "\n",
        "Fourth test: model_year, displacement\n",
        "\n",
        "    - Train R^2 =  0.7396550732488286\n",
        "    - Train RMSE =  4.05549211335316\n",
        "    - Val R^2 =  0.6704228009309352\n",
        "    - Val RMSE =  4.048027806333866\n",
        "\n",
        "Final thoughts: After multiple experiments trying different combinations of columns, I've concluded that \"model_year\" is the most important column when trying to predict \"mpg.\" The difference in the regression metrics and the scatterplot was the most dramatic when this attribute was present vs not-present. I have also concluded that the inclusion of all columns trains the model better than excluding any of them."
      ],
      "metadata": {
        "id": "cuYTWjIA-MDR"
      }
    },
    {
      "cell_type": "code",
      "source": [
        "all_x1 = df[[\"displacement\",\"model_year\"]].to_numpy() #modified this line for each \"test\" explained above\n",
        "all_y1 = df[\"mpg\"].to_numpy()\n",
        "\n",
        "x_trval1, x_te1, y_trval1, y_te1 = train_test_split(all_x1,all_y1,test_size=0.17,random_state=30)\n",
        "x_tr1, x_val1, y_tr1, y_val1 = train_test_split(x_trval1,y_trval1,test_size=0.23,random_state=30)\n",
        "\n",
        "h = linear_model.LinearRegression()\n",
        "\n",
        "h.fit(x_tr1,y_tr1)\n",
        "\n",
        "print(\"for testing: Train R^2 = \", h.score(x_tr1, y_tr1))\n",
        "pred_tr1 = h.predict(x_tr1)\n",
        "print(\"for testing: Train RMSE = \", mean_squared_error(y_tr1, pred_tr1, squared=False))\n",
        "\n",
        "print(\"\\nfor testing: Val R^2 = \",h.score(x_val1,y_val1))\n",
        "pred_val1 = h.predict(x_val1)\n",
        "print(\"for testing: Val RMSE = \", mean_squared_error(y_val1, pred_val1, squared=False))\n",
        "print(\"\\n\\n\")\n",
        "#sns.scatterplot(y_val1,pred_val1)"
      ],
      "metadata": {
        "id": "2FXTWCYk-NQv"
      },
      "execution_count": null,
      "outputs": []
    },
    {
      "cell_type": "markdown",
      "source": [
        "##----------------------------------------------------------------------------------------------------------------------------------------"
      ],
      "metadata": {
        "id": "O5_zAhvOUcxG"
      }
    },
    {
      "cell_type": "markdown",
      "source": [
        "- Categorical Features\n",
        "  - Ordinal Encoder - This actually made the model performance a little bit better which I was not expecting. For example, on the dev set evaluation it went from $R^2 = 0.71$ and $RMSE = 3.79$, to $R^2 = 0.82$ and $RMSE = 3.35$"
      ],
      "metadata": {
        "id": "EP0FkrFD_UOj"
      }
    },
    {
      "cell_type": "code",
      "source": [
        "from sklearn.preprocessing import OrdinalEncoder\n",
        "\n",
        "df2 = shuffled_df.copy()\n",
        "\n",
        "# Ordinal Encoder\n",
        "enc = OrdinalEncoder()\n",
        "enc.fit(df2[[\"origin\",\"name\"]])\n",
        "df2[[\"origin\",\"name\"]] = enc.transform(df2[[\"origin\",\"name\"]])\n",
        "\n",
        "df2 = df2.dropna()\n",
        "\n",
        "all_x2 = df2[[\"cylinders\",\"displacement\",\"horsepower\",\"weight\",\"acceleration\",\"model_year\",\"origin\",\"name\"]].to_numpy()\n",
        "all_y2 = df2[\"mpg\"].to_numpy()\n",
        "\n",
        "x_trval2, x_te2, y_trval2, y_te2 = train_test_split(all_x2,all_y2,test_size=0.17,random_state=30)\n",
        "x_tr2, x_val2, y_tr2, y_val2 = train_test_split(x_trval2,y_trval2,test_size=0.23,random_state=30)\n",
        "\n",
        "h = linear_model.LinearRegression()\n",
        "\n",
        "h.fit(x_tr2,y_tr2)\n",
        "\n",
        "print(\"with OrdinalEncoder: Train R^2 = \", h.score(x_tr2, y_tr2))\n",
        "pred_tr2 = h.predict(x_tr2)\n",
        "print(\"with OrdinalEncoder: Train RMSE = \", mean_squared_error(y_tr2, pred_tr2, squared=False))\n",
        "\n",
        "print(\"\\nwith OrdinalEncoder: Val R^2 = \",h.score(x_val2,y_val2))\n",
        "pred_val2 = h.predict(x_val2)\n",
        "print(\"with OrdinalEncoder: Val RMSE = \", mean_squared_error(y_val2, pred_val2, squared=False))\n",
        "print(\"\\n\\n\")\n",
        "#sns.scatterplot(y_val2,pred_val2)"
      ],
      "metadata": {
        "id": "fZ2Q_pZbD8GP"
      },
      "execution_count": null,
      "outputs": []
    },
    {
      "cell_type": "markdown",
      "source": [
        "##----------------------------------------------------------------------------------------------------------------------------------------"
      ],
      "metadata": {
        "id": "QKyDfi4iXMWf"
      }
    },
    {
      "cell_type": "markdown",
      "source": [
        "- Data Scaling\n",
        "  - Robust and Standard scaling gave the same regression metrics so I chose to leave standard scaler uncommented since our dataset does not contain enough outliers to require robust.\n",
        "  - I also noticed that the regression metrics are a little better including the standard scaling so I will include this in my model."
      ],
      "metadata": {
        "id": "Yahen0PQXN4H"
      }
    },
    {
      "cell_type": "code",
      "source": [
        "from sklearn.preprocessing import RobustScaler\n",
        "from sklearn.preprocessing import StandardScaler\n",
        "from sklearn.preprocessing import OrdinalEncoder\n",
        "\n",
        "df3 = shuffled_df.copy()\n",
        "\n",
        "#scaler = RobustScaler()   # RobustScaler: dev R^2=0.82 RMSE=3.35\n",
        "scaler = StandardScaler()  # StandardScaler: dev R^2=0.82, RMSE=3.35\n",
        "\n",
        "data = df3[[\"cylinders\",\"displacement\",\"horsepower\",\"weight\",\"acceleration\",\"model_year\"]]\n",
        "scaler.fit(data)\n",
        "df3[[\"cylinders\",\"displacement\",\"horsepower\",\"weight\",\"acceleration\",\"model_year\"]] = scaler.transform(data)\n",
        "\n",
        "df3 = df3.dropna()\n",
        "\n",
        "all_x3 = df3[[\"cylinders\",\"displacement\",\"horsepower\",\"weight\",\"acceleration\",\"model_year\"]].to_numpy()\n",
        "all_y3 = df3[\"mpg\"].to_numpy()\n",
        "\n",
        "x_trval3, x_te3, y_trval3, y_te3 = train_test_split(all_x3,all_y3,test_size=0.17,random_state=30)\n",
        "x_tr3, x_val3, y_tr3, y_val3 = train_test_split(x_trval3,y_trval3,test_size=0.23,random_state=30)\n",
        "\n",
        "h = linear_model.LinearRegression()\n",
        "\n",
        "h.fit(x_tr3,y_tr3)\n",
        "\n",
        "print(\"with data scaling: Train R^2 = \", h.score(x_tr3, y_tr3))\n",
        "pred_tr3 = h.predict(x_tr3)\n",
        "print(\"with data scaling: Train RMSE = \", mean_squared_error(y_tr3, pred_tr3, squared=False))\n",
        "\n",
        "print(\"\\nwith data scaling: Val R^2 = \",h.score(x_val3,y_val3))\n",
        "pred_val3 = h.predict(x_val3)\n",
        "print(\"with data scaling: Val RMSE = \", mean_squared_error(y_val3, pred_val3, squared=False))\n",
        "print(\"\\n\\n\")\n",
        "#sns.scatterplot(y_val3,pred_val3)"
      ],
      "metadata": {
        "id": "CNI0_muxZOOr"
      },
      "execution_count": null,
      "outputs": []
    },
    {
      "cell_type": "markdown",
      "source": [
        "###4) Putting it all together - Official final model:\n",
        "includes:\n",
        "- handling (dropping) duplicate rows\n",
        "- handling (dropping) missing values\n",
        "- handling (dropping) outliers\n",
        "- shuffling the data\n",
        "- ordinal encoder\n",
        "- standard scalar\n",
        "- splitting data into train, val, and test sets\n",
        "- evaluating on trian and val with $R^2$ and RMSE\n"
      ],
      "metadata": {
        "id": "iAyTkHuu3tOb"
      }
    },
    {
      "cell_type": "code",
      "source": [
        "import numpy as np\n",
        "import pandas as pd\n",
        "import seaborn as sns\n",
        "from scipy import stats\n",
        "import matplotlib.pyplot as plt\n",
        "from sklearn import linear_model\n",
        "from sklearn.utils import shuffle\n",
        "from sklearn.metrics import accuracy_score\n",
        "from sklearn.metrics import mean_squared_error\n",
        "from sklearn.preprocessing import OrdinalEncoder\n",
        "from sklearn.model_selection import train_test_split\n",
        "\n",
        "mpg_df = sns.load_dataset('mpg')\n",
        "\n",
        "mpg_df.drop_duplicates(inplace=True)\n",
        "\n",
        "mpg_df = shuffle(mpg_df)\n",
        "\n",
        "numerical_cols = mpg_df[[\"cylinders\",\"displacement\",\"horsepower\",\"weight\",\"acceleration\",\"model_year\"]]\n",
        "\n",
        "scaler = StandardScaler()\n",
        "scaler.fit(numerical_cols)\n",
        "mpg_df[[\"cylinders\",\"displacement\",\"horsepower\",\"weight\",\"acceleration\",\"model_year\"]] = scaler.transform(numerical_cols)\n",
        "\n",
        "enc = OrdinalEncoder()\n",
        "enc.fit(mpg_df[[\"origin\",\"name\"]])\n",
        "mpg_df[[\"origin\",\"name\"]] = enc.transform(mpg_df[[\"origin\",\"name\"]])\n",
        "\n",
        "mpg_df = mpg_df.dropna()\n",
        "\n",
        "#zscore for handling outliers and for Part 2\n",
        "z_score = stats.zscore(mpg_df)\n",
        "z_df = mpg_df[(np.abs(z_score) < 3).all(axis=1)]\n",
        "mpg_df = z_df\n",
        "\n",
        "all_x = mpg_df[[\"cylinders\",\"displacement\",\"horsepower\",\"weight\",\"acceleration\",\"model_year\",\"origin\",\"name\"]].to_numpy()\n",
        "all_y = mpg_df[\"mpg\"].to_numpy()\n",
        "\n",
        "x_trval, x_te, y_trval, y_te = train_test_split(all_x,all_y,test_size=0.17,random_state=30)\n",
        "x_tr, x_val, y_tr, y_val = train_test_split(x_trval,y_trval,test_size=0.23,random_state=30)\n",
        "#print(x_tr.shape) #(250, 8)\n",
        "#print(x_val.shape) #(75, 8)\n",
        "#print(x_te.shape) #(67, 8)\n",
        "#print(y_tr.shape) #(250,)\n",
        "#print(y_val.shape) #(75,)\n",
        "#print(y_te.shape) #(67,)\n",
        "\n",
        "h = linear_model.LinearRegression()\n",
        "\n",
        "h.fit(x_tr,y_tr)\n",
        "\n",
        "print(\"Train R^2 = \", h.score(x_tr, y_tr))\n",
        "pred_tr = h.predict(x_tr)\n",
        "print(\"Train RMSE = \", mean_squared_error(y_tr, pred_tr, squared=False))\n",
        "\n",
        "print(\"Val R^2 = \",h.score(x_val,y_val))\n",
        "pred_val = h.predict(x_val)\n",
        "print(\"Val RMSE = \", mean_squared_error(y_val, pred_val, squared=False),\"\\n\\n\")"
      ],
      "metadata": {
        "colab": {
          "base_uri": "https://localhost:8080/"
        },
        "id": "4gkBWO449HyK",
        "outputId": "8a3f0b04-c5b5-431a-cce0-5dee96a16760"
      },
      "execution_count": null,
      "outputs": [
        {
          "output_type": "stream",
          "name": "stdout",
          "text": [
            "Train R^2 =  0.8119307950584509\n",
            "Train RMSE =  3.3923629955174603\n",
            "Val R^2 =  0.8446397344250156\n",
            "Val RMSE =  2.9322867391441148 \n",
            "\n",
            "\n"
          ]
        }
      ]
    },
    {
      "cell_type": "markdown",
      "source": [
        "#Part II: "
      ],
      "metadata": {
        "id": "oayTrZfVzGPK"
      }
    },
    {
      "cell_type": "code",
      "source": [
        "# Calculate the residuals: (y − h(x) ) \n",
        "diff = y_val - pred_val\n",
        "sns.histplot(data=diff,bins=32)"
      ],
      "metadata": {
        "colab": {
          "base_uri": "https://localhost:8080/",
          "height": 282
        },
        "id": "ZmwCdZ7CIvWz",
        "outputId": "f62201d8-2351-4637-edd0-154b398539da"
      },
      "execution_count": null,
      "outputs": [
        {
          "output_type": "execute_result",
          "data": {
            "text/plain": [
              "<matplotlib.axes._subplots.AxesSubplot at 0x7fbd6915eb50>"
            ]
          },
          "metadata": {},
          "execution_count": 226
        },
        {
          "output_type": "display_data",
          "data": {
            "text/plain": [
              "<Figure size 432x288 with 1 Axes>"
            ],
            "image/png": "[encoded data removed]"
          },
          "metadata": {
            "needs_background": "light"
          }
        }
      ]
    },
    {
      "cell_type": "code",
      "source": [
        "# Scatterplot predictions (y-axis) vs ground-truth values (x-axis)\n",
        "sns.scatterplot(y_val,pred_val)"
      ],
      "metadata": {
        "colab": {
          "base_uri": "https://localhost:8080/",
          "height": 336
        },
        "id": "5RMc3W3fKUlt",
        "outputId": "8978746c-240d-4d53-b7a3-8bb5c97325b2"
      },
      "execution_count": null,
      "outputs": [
        {
          "output_type": "stream",
          "name": "stderr",
          "text": [
            "/usr/local/lib/python3.7/dist-packages/seaborn/_decorators.py:43: FutureWarning: Pass the following variables as keyword args: x, y. From version 0.12, the only valid positional argument will be `data`, and passing other arguments without an explicit keyword will result in an error or misinterpretation.\n",
            "  FutureWarning\n"
          ]
        },
        {
          "output_type": "execute_result",
          "data": {
            "text/plain": [
              "<matplotlib.axes._subplots.AxesSubplot at 0x7fbd690c6450>"
            ]
          },
          "metadata": {},
          "execution_count": 227
        },
        {
          "output_type": "display_data",
          "data": {
            "text/plain": [
              "<Figure size 432x288 with 1 Axes>"
            ],
            "image/png": "[encoded data removed]"
          },
          "metadata": {
            "needs_background": "light"
          }
        }
      ]
    },
    {
      "cell_type": "code",
      "source": [
        "# Homoscedasticity: residuals (y-axis) vs the ground-truth value (x-axis)\n",
        "sns.scatterplot(y_val,diff)"
      ],
      "metadata": {
        "colab": {
          "base_uri": "https://localhost:8080/",
          "height": 336
        },
        "id": "LlO70F7nLBIH",
        "outputId": "2f9b1195-b678-4648-b74d-c6e608814a57"
      },
      "execution_count": null,
      "outputs": [
        {
          "output_type": "stream",
          "name": "stderr",
          "text": [
            "/usr/local/lib/python3.7/dist-packages/seaborn/_decorators.py:43: FutureWarning: Pass the following variables as keyword args: x, y. From version 0.12, the only valid positional argument will be `data`, and passing other arguments without an explicit keyword will result in an error or misinterpretation.\n",
            "  FutureWarning\n"
          ]
        },
        {
          "output_type": "execute_result",
          "data": {
            "text/plain": [
              "<matplotlib.axes._subplots.AxesSubplot at 0x7fbd69204710>"
            ]
          },
          "metadata": {},
          "execution_count": 224
        },
        {
          "output_type": "display_data",
          "data": {
            "text/plain": [
              "<Figure size 432x288 with 1 Axes>"
            ],
            "image/png": "[encoded data removed]"
          },
          "metadata": {
            "needs_background": "light"
          }
        }
      ]
    },
    {
      "cell_type": "code",
      "source": [
        "# Interpret the coefficients\n",
        "coefficients = h.coef_\n",
        "print(coefficients)"
      ],
      "metadata": {
        "colab": {
          "base_uri": "https://localhost:8080/"
        },
        "id": "h0fBXc4GPZ4T",
        "outputId": "f44a358c-4e22-4371-af56-5f9da9c4ca9a"
      },
      "execution_count": null,
      "outputs": [
        {
          "output_type": "stream",
          "name": "stdout",
          "text": [
            "[-5.92262602e-01  7.12851454e-01 -1.23276136e+00 -4.43343283e+00\n",
            " -4.04662968e-01  2.60348549e+00 -7.00687812e-01  1.28286825e-03]\n"
          ]
        }
      ]
    },
    {
      "cell_type": "code",
      "source": [
        "# Plot the coefficients\n",
        "names = mpg_df.columns[1:9]\n",
        "sns.barplot(x=names,y=coefficients)\n",
        "plt.xticks(rotation = 45)"
      ],
      "metadata": {
        "colab": {
          "base_uri": "https://localhost:8080/",
          "height": 327
        },
        "id": "pCLsI9Z2TzSA",
        "outputId": "2fac2121-e93f-413c-c056-968e2be539c4"
      },
      "execution_count": null,
      "outputs": [
        {
          "output_type": "execute_result",
          "data": {
            "text/plain": [
              "(array([0, 1, 2, 3, 4, 5, 6, 7]), <a list of 8 Text major ticklabel objects>)"
            ]
          },
          "metadata": {},
          "execution_count": 241
        },
        {
          "output_type": "display_data",
          "data": {
            "text/plain": [
              "<Figure size 432x288 with 1 Axes>"
            ],
            "image/png": "[encoded data removed]"
          },
          "metadata": {
            "needs_background": "light"
          }
        }
      ]
    },
    {
      "cell_type": "markdown",
      "source": [
        "The coefficient that was most important to the model was that associated with \"model_year,\" which does make intuitive sense because I discovered and stated this earlier in my notebook!\n",
        "\n",
        "Next was \"displacement,\" and the one that was least important to the model was \"weight,\" which also makes sense because I discovered these earlier as well during my \"Feature Choice\" exploration."
      ],
      "metadata": {
        "id": "G_QopcnUY_kd"
      }
    },
    {
      "cell_type": "markdown",
      "source": [
        "# ------- RUNNING ON TEST SET:"
      ],
      "metadata": {
        "id": "uxxSFV5QZxeT"
      }
    },
    {
      "cell_type": "code",
      "source": [
        "print(\"TEST R^2 = \", h.score(x_te, y_te))\n",
        "pred_te = h.predict(x_te)\n",
        "\n",
        "print(\"\\nTEST RMSE = \", mean_squared_error(y_te, pred_te, squared=False),\"\\n\\n\")\n",
        "\n",
        "sns.scatterplot(y_te,pred_te)"
      ],
      "metadata": {
        "colab": {
          "base_uri": "https://localhost:8080/",
          "height": 421
        },
        "id": "UPe5u3CsanhY",
        "outputId": "3bba412a-4fee-4b61-fd06-d8606df9ea27"
      },
      "execution_count": null,
      "outputs": [
        {
          "output_type": "stream",
          "name": "stdout",
          "text": [
            "TEST R^2 =  0.807048121063193\n",
            "\n",
            "TEST RMSE =  3.322123711675277 \n",
            "\n",
            "\n"
          ]
        },
        {
          "output_type": "stream",
          "name": "stderr",
          "text": [
            "/usr/local/lib/python3.7/dist-packages/seaborn/_decorators.py:43: FutureWarning: Pass the following variables as keyword args: x, y. From version 0.12, the only valid positional argument will be `data`, and passing other arguments without an explicit keyword will result in an error or misinterpretation.\n",
            "  FutureWarning\n"
          ]
        },
        {
          "output_type": "execute_result",
          "data": {
            "text/plain": [
              "<matplotlib.axes._subplots.AxesSubplot at 0x7fbd6930cc50>"
            ]
          },
          "metadata": {},
          "execution_count": 244
        },
        {
          "output_type": "display_data",
          "data": {
            "text/plain": [
              "<Figure size 432x288 with 1 Axes>"
            ],
            "image/png": "[encoded data removed]"
          },
          "metadata": {
            "needs_background": "light"
          }
        }
      ]
    }
  ]
}